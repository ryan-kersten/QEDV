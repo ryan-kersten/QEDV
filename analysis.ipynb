{
 "cells": [
  {
   "cell_type": "code",
   "id": "initial_id",
   "metadata": {
    "collapsed": true,
    "ExecuteTime": {
     "end_time": "2025-02-24T21:33:25.064776Z",
     "start_time": "2025-02-24T21:33:24.969408Z"
    }
   },
   "source": [
    "import os\n",
    "import pandas as pd\n",
    "\n",
    "from QEDV_lib import QuantumError\n",
    "\n",
    "# Base folder containing the numbered subfolders\n",
    "base_folder = \"\"\n",
    "\n",
    "# List to store dataframes\n",
    "dfs = []\n",
    "\n",
    "# Loop through folders 1-10\n",
    "for i in range(11, 16):\n",
    "    folder_path = os.path.join(base_folder, str(i))\n",
    "    \n",
    "    # Check if folder exists\n",
    "    if os.path.isdir(folder_path):\n",
    "        # Loop through all .pkl files in the folder\n",
    "        for file in os.listdir(folder_path):\n",
    "            if file.endswith(\".pkl\"):\n",
    "                file_path = os.path.join(folder_path, file)\n",
    "                df = pd.read_pickle(file_path)  # Read the pickle file\n",
    "                dfs.append(df)\n",
    "\n",
    "# Concatenate all dataframes\n",
    "if dfs:\n",
    "    final_df = pd.concat(dfs, ignore_index=True)\n",
    "    print(final_df)\n",
    "else:\n",
    "    print(\"No pickle files found.\")"
   ],
   "outputs": [
    {
     "name": "stdout",
     "output_type": "stream",
     "text": [
      "      Error Rate  Dimension  Solvable    rlimit      time  Brute  BruteTime  \\\n",
      "0          0.001          3      True       258  0.003522  False          0   \n",
      "1          0.001          3      True       516  0.001228  False          0   \n",
      "2          0.001          3      True       774  0.001191  False          0   \n",
      "3          0.001          3      True      1032  0.001556  False          0   \n",
      "4          0.001          3      True      1290  0.001298  False          0   \n",
      "...          ...        ...       ...       ...       ...    ...        ...   \n",
      "5395       0.500         49     False  18032763  0.555945  False          0   \n",
      "5396       0.500         49     False  18068385  0.558137  False          0   \n",
      "5397       0.500         49     False  18104007  0.558903  False          0   \n",
      "5398       0.500         49     False  18139629  0.550807  False          0   \n",
      "5399       0.500         49     False  18175251  0.574477  False          0   \n",
      "\n",
      "                                            trials_test  trial_dim  \n",
      "0     <QEDV_lib.quantum_error.QuantumError object at...          3  \n",
      "1     <QEDV_lib.quantum_error.QuantumError object at...          3  \n",
      "2     <QEDV_lib.quantum_error.QuantumError object at...          3  \n",
      "3     <QEDV_lib.quantum_error.QuantumError object at...          3  \n",
      "4     <QEDV_lib.quantum_error.QuantumError object at...          3  \n",
      "...                                                 ...        ...  \n",
      "5395  <QEDV_lib.quantum_error.QuantumError object at...         49  \n",
      "5396  <QEDV_lib.quantum_error.QuantumError object at...         49  \n",
      "5397  <QEDV_lib.quantum_error.QuantumError object at...         49  \n",
      "5398  <QEDV_lib.quantum_error.QuantumError object at...         49  \n",
      "5399  <QEDV_lib.quantum_error.QuantumError object at...         49  \n",
      "\n",
      "[5400 rows x 9 columns]\n"
     ]
    }
   ],
   "execution_count": 69
  },
  {
   "metadata": {
    "ExecuteTime": {
     "end_time": "2025-02-24T21:33:25.872942Z",
     "start_time": "2025-02-24T21:33:25.870227Z"
    }
   },
   "cell_type": "code",
   "source": "df.columns",
   "id": "3b8ec53283e4dde1",
   "outputs": [
    {
     "data": {
      "text/plain": [
       "Index(['Error Rate', 'Dimension', 'Solvable', 'rlimit', 'time', 'Brute',\n",
       "       'BruteTime', 'trials_test', 'trial_dim'],\n",
       "      dtype='object')"
      ]
     },
     "execution_count": 70,
     "metadata": {},
     "output_type": "execute_result"
    }
   ],
   "execution_count": 70
  },
  {
   "metadata": {
    "ExecuteTime": {
     "end_time": "2025-02-24T21:33:26.662619Z",
     "start_time": "2025-02-24T21:33:26.651385Z"
    }
   },
   "cell_type": "code",
   "source": [
    "# Extract number of qubits from the trials_test object\n",
    "final_df[\"num_qubits\"] = final_df[\"trials_test\"].apply(lambda x: len(x.qubits) if hasattr(x, \"qubits\") else None)\n",
    "\n",
    "# Compute correlation between num_qubits and time\n",
    "correlation = final_df[\"num_qubits\"].corr(final_df[\"time\"])\n",
    "print(\"Correlation between number of errors and time:\", correlation)\n"
   ],
   "id": "4eef7d3fc0809e23",
   "outputs": [
    {
     "name": "stdout",
     "output_type": "stream",
     "text": [
      "Correlation between number of errors and time: 0.604402953702332\n"
     ]
    }
   ],
   "execution_count": 71
  },
  {
   "metadata": {
    "ExecuteTime": {
     "end_time": "2025-02-24T21:33:49.325665Z",
     "start_time": "2025-02-24T21:33:49.320028Z"
    }
   },
   "cell_type": "code",
   "source": "df.groupby(\"Error Rate\")['time'].mean()",
   "id": "3532961b60d5df88",
   "outputs": [
    {
     "data": {
      "text/plain": [
       "Error Rate\n",
       "0.001    0.177097\n",
       "0.010    0.173940\n",
       "0.050    0.173251\n",
       "0.100    0.171517\n",
       "0.200    0.171423\n",
       "0.250    0.171636\n",
       "0.300    0.171261\n",
       "0.350    0.170922\n",
       "0.500    0.170773\n",
       "Name: time, dtype: float64"
      ]
     },
     "execution_count": 74,
     "metadata": {},
     "output_type": "execute_result"
    }
   ],
   "execution_count": 74
  },
  {
   "metadata": {
    "ExecuteTime": {
     "end_time": "2025-02-24T21:34:01.669599Z",
     "start_time": "2025-02-24T21:34:01.660501Z"
    }
   },
   "cell_type": "code",
   "source": [
    "import numpy as np\n",
    "def calcDifficulty(error, len):\n",
    "    matrix = np.zeros((len,len))\n",
    "    for qubit in error.qubits:\n",
    "        row = qubit % len\n",
    "        col = qubit // len\n",
    "        matrix[row][col] = 1\n",
    "    n = len\n",
    "    \n",
    "    if n == 0: return []\n",
    "    \n",
    "    # Directions for up, down, left, right, and diagonals\n",
    "    directions = [(-1, 0), (1, 0), (0, -1), (0, 1),   # Up, Down, Left, Right\n",
    "                  (-1, -1), (-1, 1), (1, -1), (1, 1)]  # Diagonals\n",
    "    \n",
    "    visited = [[False] * n for _ in range(n)]\n",
    "    chains = []  # To store the lengths of all chains\n",
    "\n",
    "    def dfs(x, y):\n",
    "        stack = [(x, y)]\n",
    "        visited[x][y] = True\n",
    "        length = 1  # Count the initial 1\n",
    "        \n",
    "        while stack:\n",
    "            cx, cy = stack.pop()\n",
    "            for dx, dy in directions:\n",
    "                nx, ny = cx + dx, cy + dy\n",
    "                # Check if the neighbor is within bounds and a 1 that hasn't been visited\n",
    "                if 0 <= nx < n and 0 <= ny < n and not visited[nx][ny] and matrix[nx][ny] == 1:\n",
    "                    visited[nx][ny] = True\n",
    "                    stack.append((nx, ny))\n",
    "                    length += 1\n",
    "        return length\n",
    "\n",
    "    # Traverse all cells in the matrix\n",
    "    for i in range(n):\n",
    "        for j in range(n):\n",
    "            if matrix[i][j] == 1 and not visited[i][j]:\n",
    "                # Run DFS to find the chain length\n",
    "                chain_length = dfs(i, j)\n",
    "                chains.append(chain_length)\n",
    "\n",
    "    return chains"
   ],
   "id": "445ba3a2f9ec3743",
   "outputs": [],
   "execution_count": 75
  },
  {
   "metadata": {
    "ExecuteTime": {
     "end_time": "2025-02-24T21:34:02.742516Z",
     "start_time": "2025-02-24T21:34:02.737675Z"
    }
   },
   "cell_type": "code",
   "source": [
    "from QEDV_lib import QuantumError\n",
    "matrix = [\n",
    "    [1, 0, 1, 1],\n",
    "    [1, 1, 0, 0],\n",
    "    [0, 1, 1, 1],\n",
    "    [0, 0, 1, 1]\n",
    "]\n",
    "\n",
    "calcDifficulty(QuantumError({1,2,8}),3)  # Output: 5 (longest connected chain of 1’s)\n"
   ],
   "id": "606452871f5b42f8",
   "outputs": [
    {
     "data": {
      "text/plain": [
       "[2, 1]"
      ]
     },
     "execution_count": 76,
     "metadata": {},
     "output_type": "execute_result"
    }
   ],
   "execution_count": 76
  },
  {
   "metadata": {
    "ExecuteTime": {
     "end_time": "2025-02-24T21:34:04.892761Z",
     "start_time": "2025-02-24T21:34:04.890944Z"
    }
   },
   "cell_type": "code",
   "source": "",
   "id": "d41260db4ca2910",
   "outputs": [],
   "execution_count": null
  },
  {
   "metadata": {
    "ExecuteTime": {
     "end_time": "2025-02-24T21:35:05.212205Z",
     "start_time": "2025-02-24T21:35:04.222988Z"
    }
   },
   "cell_type": "code",
   "source": [
    "\n",
    "def getDiff(trial_test, trial_dim):\n",
    "    # Example implementation (adjust based on your actual function)\n",
    "    lis = calcDifficulty(trial_test, trial_dim)\n",
    "    sum = 0\n",
    "    for entry in lis:\n",
    "        sum += entry**2\n",
    "    return sum\n",
    "\n",
    "def maxLength(trials_test, trials_dim):\n",
    "    result = calcDifficulty(trials_test, trials_dim)\n",
    "    if result:\n",
    "        return max(result)\n",
    "    return 0\n",
    "# Create a new list to store the getDiff values\n",
    "df['diff'] = df.apply(lambda row: getDiff(row['trials_test'], row['trial_dim']), axis=1)\n",
    "\n",
    "df['diff_2'] = df.apply(lambda row: maxLength(row['trials_test'], row['trial_dim']), axis=1)\n",
    "\n"
   ],
   "id": "33f06ca68c9c00ca",
   "outputs": [],
   "execution_count": 82
  },
  {
   "metadata": {
    "ExecuteTime": {
     "end_time": "2025-02-24T21:35:05.222884Z",
     "start_time": "2025-02-24T21:35:05.219533Z"
    }
   },
   "cell_type": "code",
   "source": [
    "correlation = df['diff'].corr(df['time'])\n",
    "correlation2 = df['diff_2'].corr(df['time'])\n",
    "\n",
    "print(\"With length of chain squared\", correlation, \"With max length\", correlation2)"
   ],
   "id": "54d1ef02062865c3",
   "outputs": [
    {
     "name": "stdout",
     "output_type": "stream",
     "text": [
      "With length of chain squared 0.27518125311302594 With max length 0.26744550146760915\n"
     ]
    }
   ],
   "execution_count": 83
  },
  {
   "metadata": {
    "ExecuteTime": {
     "end_time": "2025-02-24T21:34:15.341973Z",
     "start_time": "2025-02-24T21:34:15.337659Z"
    }
   },
   "cell_type": "code",
   "source": "df['trial_dim'].unique()\n",
   "id": "27336ad31736dc36",
   "outputs": [
    {
     "data": {
      "text/plain": [
       "array([ 3,  5,  7,  9, 11, 13, 15, 17, 19, 21, 23, 25, 27, 29, 31, 33, 35,\n",
       "       37, 39, 41, 43, 45, 47, 49])"
      ]
     },
     "execution_count": 79,
     "metadata": {},
     "output_type": "execute_result"
    }
   ],
   "execution_count": 79
  },
  {
   "metadata": {},
   "cell_type": "code",
   "outputs": [],
   "execution_count": null,
   "source": "",
   "id": "62453606b10942dd"
  }
 ],
 "metadata": {
  "kernelspec": {
   "display_name": "Python 3",
   "language": "python",
   "name": "python3"
  },
  "language_info": {
   "codemirror_mode": {
    "name": "ipython",
    "version": 2
   },
   "file_extension": ".py",
   "mimetype": "text/x-python",
   "name": "python",
   "nbconvert_exporter": "python",
   "pygments_lexer": "ipython2",
   "version": "2.7.6"
  }
 },
 "nbformat": 4,
 "nbformat_minor": 5
}
