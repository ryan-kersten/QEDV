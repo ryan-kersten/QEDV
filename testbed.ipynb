{
 "cells": [
  {
   "cell_type": "code",
   "execution_count": null,
   "id": "initial_id",
   "metadata": {
    "collapsed": true
   },
   "outputs": [],
   "source": [
    ""
   ]
  },
  {
   "metadata": {
    "ExecuteTime": {
     "end_time": "2025-02-14T23:34:45.891192Z",
     "start_time": "2025-02-14T23:34:45.887841Z"
    }
   },
   "cell_type": "code",
   "source": [
    "import pickle\n",
    "\n",
    "# Load the pickle file\n",
    "with open('22data.pkl', 'rb') as file:\n",
    "    data = pickle.load(file)\n",
    "\n",
    "# Print the content of \"trials_test\" from the loaded data\n",
    "for qubit in data[\"trials_test\"]:\n",
    "    print(qubit.qubits)"
   ],
   "id": "9380c9d2192c4bb9",
   "outputs": [
    {
     "name": "stdout",
     "output_type": "stream",
     "text": [
      "set()\n",
      "set()\n",
      "set()\n",
      "set()\n",
      "set()\n",
      "set()\n",
      "set()\n",
      "set()\n",
      "set()\n",
      "set()\n",
      "set()\n",
      "set()\n",
      "set()\n",
      "set()\n",
      "set()\n",
      "set()\n",
      "set()\n",
      "set()\n",
      "set()\n",
      "set()\n",
      "set()\n",
      "set()\n",
      "set()\n",
      "set()\n",
      "set()\n",
      "set()\n",
      "set()\n",
      "set()\n",
      "set()\n",
      "{2}\n",
      "{3, 6}\n",
      "{5}\n",
      "{5, 7}\n",
      "{8, 4, 5}\n",
      "{4, 6}\n",
      "set()\n",
      "set()\n",
      "set()\n",
      "{7}\n",
      "{6}\n",
      "{1}\n",
      "{1}\n",
      "set()\n",
      "{3, 5, 7}\n",
      "{2}\n",
      "{2, 5}\n",
      "{0, 1, 8, 7}\n",
      "{0}\n",
      "{0, 3}\n",
      "{1, 3, 5}\n",
      "{1, 6}\n",
      "{3}\n",
      "{3, 5}\n",
      "{0, 4, 7}\n",
      "{0, 8, 5, 7}\n",
      "{2, 3, 4, 5}\n",
      "{2, 3, 5, 6}\n",
      "{3, 4, 5, 6, 8}\n",
      "{1, 3}\n",
      "{0, 1, 6}\n",
      "{8, 3, 6}\n",
      "{8, 4, 5}\n",
      "{8, 3}\n",
      "{2, 3, 5, 6, 8}\n",
      "{0}\n",
      "{8, 1, 4}\n",
      "{7}\n",
      "{8, 1}\n",
      "set()\n",
      "{1, 3, 6, 7}\n",
      "{1, 5}\n",
      "{0, 3, 6}\n",
      "{0, 1, 6, 7}\n",
      "{1, 3}\n",
      "{4}\n",
      "{8, 1, 2}\n",
      "{2, 3, 6}\n",
      "{0, 8}\n",
      "{8, 2, 3}\n",
      "{3}\n",
      "{0, 4, 6}\n",
      "{0, 1, 2, 3, 5, 8}\n",
      "{0, 3, 5, 7, 8}\n",
      "{0, 8, 3, 4}\n",
      "{0, 3, 4, 5}\n",
      "{2, 4, 7}\n",
      "{8, 4, 5}\n",
      "{2, 4, 5}\n",
      "{0, 3, 4, 5, 7, 8}\n",
      "{0, 1, 2, 5, 8}\n"
     ]
    }
   ],
   "execution_count": 10
  },
  {
   "metadata": {},
   "cell_type": "code",
   "outputs": [],
   "execution_count": null,
   "source": "",
   "id": "1ff73d3c113f8fa4"
  }
 ],
 "metadata": {
  "kernelspec": {
   "display_name": "Python 3",
   "language": "python",
   "name": "python3"
  },
  "language_info": {
   "codemirror_mode": {
    "name": "ipython",
    "version": 2
   },
   "file_extension": ".py",
   "mimetype": "text/x-python",
   "name": "python",
   "nbconvert_exporter": "python",
   "pygments_lexer": "ipython2",
   "version": "2.7.6"
  }
 },
 "nbformat": 4,
 "nbformat_minor": 5
}
