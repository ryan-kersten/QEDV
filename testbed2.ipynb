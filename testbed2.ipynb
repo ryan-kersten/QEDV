{
 "cells": [
  {
   "cell_type": "code",
   "id": "initial_id",
   "metadata": {
    "collapsed": true,
    "ExecuteTime": {
     "end_time": "2025-04-03T16:50:40.058633Z",
     "start_time": "2025-04-03T16:50:40.038090Z"
    }
   },
   "source": "import stim",
   "outputs": [],
   "execution_count": 2
  },
  {
   "metadata": {
    "ExecuteTime": {
     "end_time": "2025-04-03T16:51:22.693603Z",
     "start_time": "2025-04-03T16:51:22.688014Z"
    }
   },
   "cell_type": "code",
   "source": [
    "surface_code_circuit = stim.Circuit.generated(\n",
    "    \"surface_code:rotated_memory_z\",\n",
    "    rounds=9,\n",
    "    distance=3,\n",
    "    after_clifford_depolarization=0,\n",
    "    after_reset_flip_probability=0,\n",
    "    before_measure_flip_probability=0,\n",
    "    before_round_data_depolarization=0)\n",
    "\n",
    "surface_code_circuit.sta"
   ],
   "id": "a704f183cbe5af74",
   "outputs": [],
   "execution_count": 3
  },
  {
   "metadata": {
    "ExecuteTime": {
     "end_time": "2025-04-03T17:26:33.133500Z",
     "start_time": "2025-04-03T17:26:33.131901Z"
    }
   },
   "cell_type": "code",
   "source": "",
   "id": "335a3dcb41001db8",
   "outputs": [],
   "execution_count": null
  },
  {
   "metadata": {
    "ExecuteTime": {
     "end_time": "2025-04-03T16:53:30.676942Z",
     "start_time": "2025-04-03T16:53:30.674802Z"
    }
   },
   "cell_type": "code",
   "source": "",
   "id": "d20c455520f7eca4",
   "outputs": [],
   "execution_count": null
  },
  {
   "metadata": {},
   "cell_type": "code",
   "outputs": [],
   "execution_count": null,
   "source": "",
   "id": "49c6b6d3e7d7c3f1"
  }
 ],
 "metadata": {
  "kernelspec": {
   "display_name": "Python 3",
   "language": "python",
   "name": "python3"
  },
  "language_info": {
   "codemirror_mode": {
    "name": "ipython",
    "version": 2
   },
   "file_extension": ".py",
   "mimetype": "text/x-python",
   "name": "python",
   "nbconvert_exporter": "python",
   "pygments_lexer": "ipython2",
   "version": "2.7.6"
  }
 },
 "nbformat": 4,
 "nbformat_minor": 5
}
